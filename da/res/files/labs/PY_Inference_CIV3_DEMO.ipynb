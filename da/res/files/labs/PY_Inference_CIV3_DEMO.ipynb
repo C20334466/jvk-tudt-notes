{
 "cells": [
  {
   "cell_type": "markdown",
   "metadata": {},
   "source": [
    "\n",
    "# Confidence interval (3)\n",
    "\n",
    "This notebook covers the following cases:\n",
    "\n",
    "1. unknown $\\sigma$, data with normal distribution, small sample ($n < 30$)"
   ]
  },
  {
   "cell_type": "markdown",
   "metadata": {},
   "source": [
    "## Imports and data"
   ]
  },
  {
   "cell_type": "markdown",
   "metadata": {},
   "source": [
    "Required imports"
   ]
  },
  {
   "cell_type": "code",
   "execution_count": 1,
   "metadata": {},
   "outputs": [],
   "source": [
    "import numpy as np\n",
    "import scipy.stats as stats\n",
    "import math\n",
    "import matplotlib.pyplot as plt"
   ]
  },
  {
   "cell_type": "markdown",
   "metadata": {},
   "source": [
    "Configure values for the problem space"
   ]
  },
  {
   "cell_type": "code",
   "execution_count": 2,
   "metadata": {},
   "outputs": [],
   "source": [
    "mu = 450\n",
    "n = 25\n",
    "LoCpc = 95"
   ]
  },
  {
   "cell_type": "markdown",
   "metadata": {},
   "source": [
    "Prepare a random sample to work with (with the given parameters). We have to specify a standard deviation to get a sample of data, however, after that we 'forget' the value for sigma and work as if the standard deviation is unknown."
   ]
  },
  {
   "cell_type": "code",
   "execution_count": 3,
   "metadata": {},
   "outputs": [],
   "source": [
    "sigma = 10\n",
    "sample = np.random.normal(loc=mu, scale=sigma, size=n)"
   ]
  },
  {
   "cell_type": "markdown",
   "metadata": {},
   "source": [
    "## Preparation"
   ]
  },
  {
   "cell_type": "markdown",
   "metadata": {},
   "source": [
    "We calculate the sample mean, $\\bar{x}$."
   ]
  },
  {
   "cell_type": "code",
   "execution_count": 4,
   "metadata": {},
   "outputs": [
    {
     "data": {
      "text/plain": [
       "452.3048043624335"
      ]
     },
     "execution_count": 4,
     "metadata": {},
     "output_type": "execute_result"
    }
   ],
   "source": [
    "xmean = stats.mstats.tmean(sample)\n",
    "xmean"
   ]
  },
  {
   "cell_type": "markdown",
   "metadata": {},
   "source": [
    "We calculate the sample standard deviation to estimate the population standard deviation. The parameter `ddof` tells the function to divide by `n - ddof` rather than n. In our case, we want division by $n - 1$."
   ]
  },
  {
   "cell_type": "code",
   "execution_count": 5,
   "metadata": {},
   "outputs": [
    {
     "data": {
      "text/plain": [
       "10.653314183129837"
      ]
     },
     "execution_count": 5,
     "metadata": {},
     "output_type": "execute_result"
    }
   ],
   "source": [
    "S = stats.tstd(sample, ddof=1)\n",
    "S"
   ]
  },
  {
   "cell_type": "markdown",
   "metadata": {},
   "source": [
    "Calculate the standard error from the population standard deviation estimate."
   ]
  },
  {
   "cell_type": "code",
   "execution_count": 6,
   "metadata": {},
   "outputs": [
    {
     "data": {
      "text/plain": [
       "2.1306628366259672"
      ]
     },
     "execution_count": 6,
     "metadata": {},
     "output_type": "execute_result"
    }
   ],
   "source": [
    "stdErr = S / math.sqrt(n)\n",
    "stdErr"
   ]
  },
  {
   "cell_type": "markdown",
   "metadata": {},
   "source": [
    "The variable `df` represents the degrees of freedom of the t-distribution."
   ]
  },
  {
   "cell_type": "code",
   "execution_count": 7,
   "metadata": {},
   "outputs": [
    {
     "data": {
      "text/plain": [
       "24"
      ]
     },
     "execution_count": 7,
     "metadata": {},
     "output_type": "execute_result"
    }
   ],
   "source": [
    "df = n - 1\n",
    "df"
   ]
  },
  {
   "cell_type": "markdown",
   "metadata": {},
   "source": [
    "## Confidence interval\n",
    "\n",
    "Now we can go through the same steps as we do manually to determine the confidence interval."
   ]
  },
  {
   "cell_type": "markdown",
   "metadata": {},
   "source": [
    "Find the cut-off points in the t-distribution. We use the t-distribution when we know that the data distribution is roughly normal but we do not know the standard deviation and the sample size is small ($n < 30$). The first argument to `interval()` is the confidence as a fraction of 1. "
   ]
  },
  {
   "cell_type": "code",
   "execution_count": 8,
   "metadata": {},
   "outputs": [
    {
     "name": "stdout",
     "output_type": "stream",
     "text": [
      "-2.0638985616280205 2.0638985616280205\n"
     ]
    }
   ],
   "source": [
    "tAlphaHalvedNeg, tAlphaHalvedPos = stats.t.interval(LoCpc / 100, df)\n",
    "print(tAlphaHalvedNeg, tAlphaHalvedPos)"
   ]
  },
  {
   "cell_type": "markdown",
   "metadata": {},
   "source": [
    "De-standardise the upper cut-off point."
   ]
  },
  {
   "cell_type": "code",
   "execution_count": 9,
   "metadata": {},
   "outputs": [
    {
     "data": {
      "text/plain": [
       "4.397471963826612"
      ]
     },
     "execution_count": 9,
     "metadata": {},
     "output_type": "execute_result"
    }
   ],
   "source": [
    "halfIntervalWidth = tAlphaHalvedPos * stdErr\n",
    "halfIntervalWidth"
   ]
  },
  {
   "cell_type": "markdown",
   "metadata": {},
   "source": [
    "Print the confidence interval."
   ]
  },
  {
   "cell_type": "code",
   "execution_count": 10,
   "metadata": {},
   "outputs": [
    {
     "name": "stdout",
     "output_type": "stream",
     "text": [
      "Confidence interval: 452.305 ± 4.397\n"
     ]
    }
   ],
   "source": [
    "print('Confidence interval: {0:.3f} \\u00b1 {1:.3f}'.format(xmean, halfIntervalWidth))"
   ]
  },
  {
   "cell_type": "markdown",
   "metadata": {},
   "source": [
    "**Rather than employing the step-by-step approach as in manual calculations, the interval can be obtained by getting the lower and upper cut-off values in one step:**"
   ]
  },
  {
   "cell_type": "code",
   "execution_count": 11,
   "metadata": {},
   "outputs": [
    {
     "name": "stdout",
     "output_type": "stream",
     "text": [
      "Cut-off values: 447.907, 456.702\n",
      "Confidence interval: 452.305 ± 4.397, with 95% confidence\n"
     ]
    }
   ],
   "source": [
    "COl, COu = stats.t.interval(LoCpc / 100, df, xmean, stdErr)\n",
    "print('Cut-off values: {0:.3f}, {1:.3f}'.format(COl, COu))\n",
    "print('Confidence interval: {0:.3f} \\u00b1 {1:.3f}, with {2}% confidence'.format(xmean, COu - xmean, LoCpc))"
   ]
  },
  {
   "cell_type": "markdown",
   "metadata": {},
   "source": [
    "## Plot \n",
    "\n",
    "Prepare the data"
   ]
  },
  {
   "cell_type": "code",
   "execution_count": 12,
   "metadata": {},
   "outputs": [],
   "source": [
    "halfFigWidthInStdErr = 3\n",
    "pointsPerStdErr = 20\n",
    "plotXMin = xmean - halfFigWidthInStdErr * stdErr\n",
    "plotXMax = xmean + halfFigWidthInStdErr * stdErr\n",
    "plotYMin = 0\n",
    "plotYMax = stats.t.pdf(xmean, df, xmean, stdErr) * 1.2\n",
    "\n",
    "x = np.linspace(plotXMin, plotXMax, pointsPerStdErr * halfFigWidthInStdErr * 2)"
   ]
  },
  {
   "cell_type": "markdown",
   "metadata": {},
   "source": [
    "Plot"
   ]
  },
  {
   "cell_type": "code",
   "execution_count": 13,
   "metadata": {},
   "outputs": [
    {
     "data": {
      "image/png": "[encoded data removed]",
      "text/plain": [
       "<Figure size 1440x360 with 1 Axes>"
      ]
     },
     "metadata": {
      "needs_background": "light"
     },
     "output_type": "display_data"
    }
   ],
   "source": [
    "plt.figure(figsize=(20,5)) \n",
    "plt.xlim([plotXMin, plotXMax])\n",
    "plt.tick_params(length=0)\n",
    "plt.ylim([0, plotYMax])\n",
    "\n",
    "# x-ticks with text only\n",
    "plt.xticks([xmean - halfIntervalWidth, xmean, xmean + halfIntervalWidth], \n",
    "           [r'$CO_l={0:.2f}$'.format(xmean - halfIntervalWidth), \n",
    "            r'$\\bar x$={0:.2f}'.format(xmean), \n",
    "            r'$CO_u={0:.2f}$'.format(xmean + halfIntervalWidth)], fontsize=16)\n",
    "\n",
    "# no y-ticks\n",
    "plt.yticks([])\n",
    "\n",
    "# function\n",
    "plt.plot(x, stats.t.pdf(x, df, xmean, stdErr), color='darkgray')\n",
    "\n",
    "# vertical lines\n",
    "plt.plot([xmean - halfIntervalWidth, xmean - halfIntervalWidth], \n",
    "         [0, stats.t.pdf(xmean - halfIntervalWidth, df, xmean, stdErr)], color='black')\n",
    "plt.plot([xmean + halfIntervalWidth, xmean + halfIntervalWidth], \n",
    "         [0, stats.t.pdf(xmean - halfIntervalWidth, df, xmean, stdErr)], color='black')\n",
    "plt.plot([xmean, xmean], [0, stats.t.pdf(xmean, df, xmean, stdErr)], color='darkgray', linestyle='--')\n",
    "plt.show()"
   ]
  }
 ],
 "metadata": {
  "kernelspec": {
   "display_name": "Python 3",
   "language": "python",
   "name": "python3"
  },
  "language_info": {
   "codemirror_mode": {
    "name": "ipython",
    "version": 3
   },
   "file_extension": ".py",
   "mimetype": "text/x-python",
   "name": "python",
   "nbconvert_exporter": "python",
   "pygments_lexer": "ipython3",
   "version": "3.8.3"
  }
 },
 "nbformat": 4,
 "nbformat_minor": 2
}
