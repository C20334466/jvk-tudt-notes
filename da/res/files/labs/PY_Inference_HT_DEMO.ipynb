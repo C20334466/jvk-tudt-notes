{
 "cells": [
  {
   "cell_type": "markdown",
   "metadata": {},
   "source": [
    "\n",
    "# Hypothesis tests for the mean\n",
    "\n"
   ]
  },
  {
   "cell_type": "markdown",
   "metadata": {},
   "source": [
    "## 1 Imports and data"
   ]
  },
  {
   "cell_type": "markdown",
   "metadata": {},
   "source": [
    "Required imports"
   ]
  },
  {
   "cell_type": "code",
   "execution_count": 1,
   "metadata": {},
   "outputs": [],
   "source": [
    "import numpy as np\n",
    "import scipy.stats as stats\n",
    "import math\n",
    "import matplotlib.pyplot as plt"
   ]
  },
  {
   "cell_type": "markdown",
   "metadata": {},
   "source": [
    "Here are some samples to work with."
   ]
  },
  {
   "cell_type": "code",
   "execution_count": 2,
   "metadata": {},
   "outputs": [],
   "source": [
    "l_sample = np.array([459.93937471, 428.56911056, 441.33412389, 443.39645684,\n",
    "       448.76532849, 461.89116293, 460.17701055, 447.27797476,\n",
    "       439.97474578, 446.18116418, 450.84726679, 444.12490592,\n",
    "       447.6593213 , 435.0076449 , 442.86110955, 453.7571971 ,\n",
    "       449.71292478, 453.2010883 , 459.21085915, 447.12120059,\n",
    "       457.94628451, 462.76464606, 443.56578646, 460.61908841,\n",
    "       454.01523285, 456.27753429, 455.83920688, 463.99479717,\n",
    "       443.32681673, 425.16538452, 430.32581718, 451.99434723,\n",
    "       456.33306817, 461.0676949 , 458.58939368, 449.34334726,\n",
    "       466.17066526, 466.63469241, 458.02337508, 439.28442225,\n",
    "       437.05792495, 448.37091484, 445.05077328, 456.44145098,\n",
    "       443.71392147, 459.60968608, 455.88773547, 453.03291995,\n",
    "       454.15425348, 442.19805884, 437.75805556, 437.29066819,\n",
    "       432.19569756, 444.17177696, 453.42677273, 471.02255555,\n",
    "       433.49383922, 445.29045676, 439.57916517, 432.60572773,\n",
    "       447.94654466, 441.79983365, 445.90910055, 462.04020037,\n",
    "       447.58976195, 440.291391  , 451.92558266, 454.98075125,\n",
    "       456.17392379, 453.503855  , 449.99363999, 440.83880686,\n",
    "       426.06544724, 468.00954174, 449.83632402, 445.32911325,\n",
    "       453.03749456, 431.71877637, 466.18331614, 452.74054317,\n",
    "       458.33794027, 455.92566141, 465.38373873, 448.95775753,\n",
    "       429.93375205, 454.73857533, 466.70740866, 447.02532815,\n",
    "       468.2701383 , 458.93974002, 439.20753806, 453.6336253 ,\n",
    "       444.82446294, 462.2869467 , 452.57589117, 457.92968932,\n",
    "       454.70956354, 444.92896199, 437.50753704, 447.58023815])\n",
    "\n",
    "s_sample = np.array([456.58180245, 464.50546396, 456.14594757, 449.25808585,\n",
    "       453.10372431, 463.00835959, 447.70233383, 450.86259841,\n",
    "       454.43326052, 452.47623745, 429.33418203, 461.56528077,\n",
    "       450.92313554, 428.44846109, 448.76978192, 466.86569181,\n",
    "       440.93813882, 446.04164502, 439.17304359, 439.69070222,\n",
    "       433.53070749, 441.36511285, 453.81691262, 465.00803267,\n",
    "       438.93570373])"
   ]
  },
  {
   "cell_type": "markdown",
   "metadata": {},
   "source": [
    "## 2 Hypothesis formulation\n",
    "\n",
    "A hypothesis of the value of the mean is formulated using a null and alternative hypothesis, as follows:\n",
    "\n",
    "- in the case of a two-tailed test (we do not expect the value to be 'off' in any particular direction)\n",
    "\n",
    "    - H<sub>0</sub>: &mu; = &mu;<sub>0</sub>\n",
    "    - H<sub>a</sub>: &mu; &ne; &mu;<sub>0</sub>\n",
    "    \n",
    "- in the case of a one-tailed test (we are testing against the value to be 'off' in a particular direction e.g. larger, as in the example below; this results in an upper-tailed test if we are testing against a value larger than hypothesised and a lower-tailed test if we are testing against a value smaller than hypothesised)\n",
    "\n",
    "    - H<sub>0</sub>: &mu; &le; &mu;<sub>0</sub>\n",
    "    - H<sub>a</sub>: &mu; &gt; &mu;<sub>0</sub>\n",
    "    "
   ]
  },
  {
   "cell_type": "markdown",
   "metadata": {},
   "source": [
    "## 3 Using the normal distribution\n",
    "\n",
    "We can use the normal distribution for the test for the mean in either of these cases:\n",
    "\n",
    "- the sample size is large (this is our case - we will be using `l_sample` where `n = 100`)\n",
    "- the sample size is small, the distribution is known to be normal and the population standard deviation is known"
   ]
  },
  {
   "cell_type": "markdown",
   "metadata": {},
   "source": [
    "### Test `l_sample (n=100)` for population mean of 452 (two tailed), with significance of 0.05\n",
    "\n",
    "   - H<sub>0</sub>: &mu; = 452\n",
    "   - H<sub>a</sub>: &mu; &ne; 452"
   ]
  },
  {
   "cell_type": "markdown",
   "metadata": {},
   "source": [
    "Calculate the test statistic\n",
    "\n",
    "**NOTE:** Here we are using the standard deviation estimate calculated on a sample (S) but if the population standard deviation is known (&sigma;), that should be used in the calculations"
   ]
  },
  {
   "cell_type": "code",
   "execution_count": 3,
   "metadata": {},
   "outputs": [
    {
     "data": {
      "text/plain": [
       "2.1428837142679193"
      ]
     },
     "execution_count": 3,
     "metadata": {},
     "output_type": "execute_result"
    }
   ],
   "source": [
    "mu_zero = 452\n",
    "T1 = abs((l_sample.mean() - mu_zero)/(l_sample.std()/math.sqrt(len(l_sample))))\n",
    "T1"
   ]
  },
  {
   "cell_type": "markdown",
   "metadata": {},
   "source": [
    "Find the two-tailed critical value for significance"
   ]
  },
  {
   "cell_type": "code",
   "execution_count": 4,
   "metadata": {},
   "outputs": [
    {
     "data": {
      "text/plain": [
       "1.959963984540054"
      ]
     },
     "execution_count": 4,
     "metadata": {},
     "output_type": "execute_result"
    }
   ],
   "source": [
    "alpha = 0.05\n",
    "alpha_half = alpha/2\n",
    "critical_value = stats.norm.ppf(1 - alpha_half)\n",
    "critical_value"
   ]
  },
  {
   "cell_type": "markdown",
   "metadata": {},
   "source": [
    "Compare to see if the value is significant"
   ]
  },
  {
   "cell_type": "code",
   "execution_count": 5,
   "metadata": {},
   "outputs": [
    {
     "data": {
      "text/plain": [
       "True"
      ]
     },
     "execution_count": 5,
     "metadata": {},
     "output_type": "execute_result"
    }
   ],
   "source": [
    "T1 > critical_value"
   ]
  },
  {
   "cell_type": "markdown",
   "metadata": {},
   "source": [
    "The statistic is more extreme (in this case greater) than the critical value, which means that the result is **significant**. We **reject the null hypothesis**. Thus, there is statistical evidence that the mean is different from the hypothesised value, at the 0.05 level of significance."
   ]
  },
  {
   "cell_type": "markdown",
   "metadata": {},
   "source": [
    "### Test `l_sample (n=100)` for population mean of 451 or greater (lower tail), with significance of 0.05\n",
    "\n",
    "   - H<sub>0</sub>: &mu; &ge; 451\n",
    "   - H<sub>a</sub>: &mu; &lt; 451"
   ]
  },
  {
   "cell_type": "markdown",
   "metadata": {},
   "source": [
    "Calculate the test statistic"
   ]
  },
  {
   "cell_type": "code",
   "execution_count": 6,
   "metadata": {},
   "outputs": [
    {
     "data": {
      "text/plain": [
       "-1.169012238528652"
      ]
     },
     "execution_count": 6,
     "metadata": {},
     "output_type": "execute_result"
    }
   ],
   "source": [
    "mu_zero = 451\n",
    "T2 = (l_sample.mean() - mu_zero)/(l_sample.std()/math.sqrt(len(l_sample)))\n",
    "T2"
   ]
  },
  {
   "cell_type": "markdown",
   "metadata": {},
   "source": [
    "Find the **lower-tailed** critical value for significance"
   ]
  },
  {
   "cell_type": "code",
   "execution_count": 7,
   "metadata": {},
   "outputs": [
    {
     "data": {
      "text/plain": [
       "-1.6448536269514729"
      ]
     },
     "execution_count": 7,
     "metadata": {},
     "output_type": "execute_result"
    }
   ],
   "source": [
    "alpha = 0.05\n",
    "critical_value = stats.norm.ppf(alpha)\n",
    "critical_value"
   ]
  },
  {
   "cell_type": "markdown",
   "metadata": {},
   "source": [
    "Compare to see if the value is significant (we are testing if the statistic is **smaller** than the critical value, as it is a lower-tailed test)"
   ]
  },
  {
   "cell_type": "code",
   "execution_count": 8,
   "metadata": {},
   "outputs": [
    {
     "data": {
      "text/plain": [
       "False"
      ]
     },
     "execution_count": 8,
     "metadata": {},
     "output_type": "execute_result"
    }
   ],
   "source": [
    "T2 < critical_value"
   ]
  },
  {
   "cell_type": "markdown",
   "metadata": {},
   "source": [
    "The statistic is not more extreme (in this case not smaller) than the critical value, which means that the result is **no significant**. We **fail to reject the null hypothesis**. Thus, there is no statistical evidence for the hypothesis (&mu; &ge; 451) not being true, at the 0.05 level of significance."
   ]
  },
  {
   "cell_type": "markdown",
   "metadata": {},
   "source": [
    "## 4 Using the t-distribution\n",
    "\n",
    "We must use the t-distribution for the test for the mean in the following case:\n",
    "\n",
    "- the sample size is small, the distribution is known to be normal but the population standard deviation is not known\n"
   ]
  },
  {
   "cell_type": "markdown",
   "metadata": {},
   "source": [
    "### Test `s_sample (n=25)` for population mean of 452 (two tailed), with significance of 0.05\n",
    "\n",
    "   - H<sub>0</sub>: &mu; = 452\n",
    "   - H<sub>a</sub>: &mu; &ne; 452"
   ]
  },
  {
   "cell_type": "markdown",
   "metadata": {},
   "source": [
    "Calculate the test statistic (note that this is the same as when using the normal distribution)"
   ]
  },
  {
   "cell_type": "code",
   "execution_count": 9,
   "metadata": {},
   "outputs": [
    {
     "data": {
      "text/plain": [
       "1.2687248567337825"
      ]
     },
     "execution_count": 9,
     "metadata": {},
     "output_type": "execute_result"
    }
   ],
   "source": [
    "mu_zero = 452\n",
    "T3 = abs((s_sample.mean() - mu_zero)/(s_sample.std()/math.sqrt(len(s_sample))))\n",
    "T3"
   ]
  },
  {
   "cell_type": "markdown",
   "metadata": {},
   "source": [
    "Find the two-tailed critical value for significance"
   ]
  },
  {
   "cell_type": "code",
   "execution_count": 10,
   "metadata": {},
   "outputs": [
    {
     "data": {
      "text/plain": [
       "2.0638985616280205"
      ]
     },
     "execution_count": 10,
     "metadata": {},
     "output_type": "execute_result"
    }
   ],
   "source": [
    "alpha = 0.05\n",
    "alpha_half = alpha/2\n",
    "critical_value = stats.t.ppf(1 - alpha_half, len(s_sample) - 1)\n",
    "critical_value"
   ]
  },
  {
   "cell_type": "markdown",
   "metadata": {},
   "source": [
    "Compare to see if the value is significant"
   ]
  },
  {
   "cell_type": "code",
   "execution_count": 11,
   "metadata": {},
   "outputs": [
    {
     "data": {
      "text/plain": [
       "False"
      ]
     },
     "execution_count": 11,
     "metadata": {},
     "output_type": "execute_result"
    }
   ],
   "source": [
    "T3 > critical_value"
   ]
  },
  {
   "cell_type": "markdown",
   "metadata": {},
   "source": [
    "The statistic is not more extreme (in this case not greater) than the critical value, which means that the result is **not significant**. We **fail to reject the null hypothesis**. Thus, there is no statistical evidence for the hypothesis (&mu; = 452) not being true, at the 0.05 level of significance.\n",
    "\n",
    "If we repeat this experiment many times with different random samples, the result will vary. This is the nature of probability."
   ]
  },
  {
   "cell_type": "markdown",
   "metadata": {},
   "source": [
    "### Test `s_sample (n=25)` for population mean of 453 or greater (lower tail), with significance of 0.05\n",
    "\n",
    "   - H<sub>0</sub>: &mu; &ge; 453\n",
    "   - H<sub>a</sub>: &mu; &lt; 453"
   ]
  },
  {
   "cell_type": "markdown",
   "metadata": {},
   "source": [
    "Calculate the test statistic"
   ]
  },
  {
   "cell_type": "code",
   "execution_count": 12,
   "metadata": {},
   "outputs": [
    {
     "data": {
      "text/plain": [
       "-1.738514003262983"
      ]
     },
     "execution_count": 12,
     "metadata": {},
     "output_type": "execute_result"
    }
   ],
   "source": [
    "mu_zero = 453\n",
    "T4 = (s_sample.mean() - mu_zero)/(s_sample.std()/math.sqrt(len(s_sample)))\n",
    "T4"
   ]
  },
  {
   "cell_type": "markdown",
   "metadata": {},
   "source": [
    "Find the **lower-tailed** critical value for significance"
   ]
  },
  {
   "cell_type": "code",
   "execution_count": 13,
   "metadata": {},
   "outputs": [
    {
     "data": {
      "text/plain": [
       "-1.7108820799094282"
      ]
     },
     "execution_count": 13,
     "metadata": {},
     "output_type": "execute_result"
    }
   ],
   "source": [
    "alpha = 0.05\n",
    "critical_value = stats.t.ppf(alpha, len(s_sample) - 1)\n",
    "critical_value"
   ]
  },
  {
   "cell_type": "markdown",
   "metadata": {},
   "source": [
    "Compare to see if the value is significant (we are testing if the statistic is **smaller** than the critical value, as it is a lower-tailed test)"
   ]
  },
  {
   "cell_type": "code",
   "execution_count": 14,
   "metadata": {},
   "outputs": [
    {
     "data": {
      "text/plain": [
       "True"
      ]
     },
     "execution_count": 14,
     "metadata": {},
     "output_type": "execute_result"
    }
   ],
   "source": [
    "T4 < critical_value"
   ]
  },
  {
   "cell_type": "markdown",
   "metadata": {},
   "source": [
    "The statistic is more extreme (in this case smaller) than the critical value, which means that the result is **significant**. We **reject the null hypothesis**. Thus, there is statistical evidence that the mean is different than the hypothesised range (i.e. smaller than 453), at the 0.05 level of significance."
   ]
  },
  {
   "cell_type": "markdown",
   "metadata": {},
   "source": [
    "## 5 Inspecting p-values (an alternative way of testing)\n",
    "\n",
    "When computationally working with distributions (as we are here), instead of looking for critical values and comparing statistics with these, we can find p-values for the statistics and compare them with our significance (alpha) values. "
   ]
  },
  {
   "cell_type": "markdown",
   "metadata": {},
   "source": [
    "Two-tailed test requires multiplication by 2. Also, we know that T1 is positive and thus use the complement of cdf."
   ]
  },
  {
   "cell_type": "code",
   "execution_count": 15,
   "metadata": {},
   "outputs": [
    {
     "name": "stdout",
     "output_type": "stream",
     "text": [
      "0.03212243699528594 True\n"
     ]
    }
   ],
   "source": [
    "p1 = (1 - stats.norm.cdf(T1)) * 2\n",
    "print (p1, p1 < 0.05)"
   ]
  },
  {
   "cell_type": "markdown",
   "metadata": {},
   "source": [
    "This is a lower-tailed test hence we use cdf."
   ]
  },
  {
   "cell_type": "code",
   "execution_count": 16,
   "metadata": {},
   "outputs": [
    {
     "name": "stdout",
     "output_type": "stream",
     "text": [
      "0.1211993502643135 False\n"
     ]
    }
   ],
   "source": [
    "p2 = (stats.norm.cdf(T2))\n",
    "print (p2, p2 < 0.05)"
   ]
  },
  {
   "cell_type": "markdown",
   "metadata": {},
   "source": [
    "Another two-tailed test"
   ]
  },
  {
   "cell_type": "code",
   "execution_count": 17,
   "metadata": {},
   "outputs": [
    {
     "name": "stdout",
     "output_type": "stream",
     "text": [
      "0.20453921383298113 False\n"
     ]
    }
   ],
   "source": [
    "p3 = (1 - stats.norm.cdf(T3)) * 2\n",
    "print (p3, p3 < 0.05)"
   ]
  },
  {
   "cell_type": "markdown",
   "metadata": {},
   "source": [
    "Another lower-tailed test."
   ]
  },
  {
   "cell_type": "code",
   "execution_count": 18,
   "metadata": {},
   "outputs": [
    {
     "name": "stdout",
     "output_type": "stream",
     "text": [
      "0.04106014241758428 True\n"
     ]
    }
   ],
   "source": [
    "p4 = (stats.norm.cdf(T4))\n",
    "print (p4, p4 < 0.05)"
   ]
  },
  {
   "cell_type": "markdown",
   "metadata": {},
   "source": [
    "## 6 Cases where hypothesis tests cannot be performed with normal or t-distribution\n",
    "\n",
    "The type of hypothesis test described here cannot be performed in the following case:\n",
    "\n",
    "- sample size is small (<30) and the distribution of the variable is not known\n"
   ]
  }
 ],
 "metadata": {
  "kernelspec": {
   "display_name": "Python 3 (ipykernel)",
   "language": "python",
   "name": "python3"
  },
  "language_info": {
   "codemirror_mode": {
    "name": "ipython",
    "version": 3
   },
   "file_extension": ".py",
   "mimetype": "text/x-python",
   "name": "python",
   "nbconvert_exporter": "python",
   "pygments_lexer": "ipython3",
   "version": "3.10.10"
  }
 },
 "nbformat": 4,
 "nbformat_minor": 4
}
