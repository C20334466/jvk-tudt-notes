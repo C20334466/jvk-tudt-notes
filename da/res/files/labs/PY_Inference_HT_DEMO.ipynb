{
 "cells": [
  {
   "cell_type": "markdown",
   "metadata": {},
   "source": [
    "\n",
    "# Hypothesis tests for the mean\n",
    "\n"
   ]
  },
  {
   "cell_type": "markdown",
   "metadata": {},
   "source": [
    "## 1 Imports and data"
   ]
  },
  {
   "cell_type": "markdown",
   "metadata": {},
   "source": [
    "Required imports"
   ]
  },
  {
   "cell_type": "code",
   "execution_count": 1,
   "metadata": {},
   "outputs": [],
   "source": [
    "import numpy as np\n",
    "import scipy.stats as stats\n",
    "import math\n",
    "import matplotlib.pyplot as plt"
   ]
  },
  {
   "cell_type": "markdown",
   "metadata": {},
   "source": [
    "Prepare a random sample to work with."
   ]
  },
  {
   "cell_type": "code",
   "execution_count": 2,
   "metadata": {},
   "outputs": [],
   "source": [
    "mu = 450\n",
    "sigma = 10\n",
    "l_sample = np.random.normal(loc=mu, scale=sigma, size=100)\n",
    "s_sample = np.random.normal(loc=mu, scale=sigma, size=25)"
   ]
  },
  {
   "cell_type": "markdown",
   "metadata": {},
   "source": [
    "## 2 Hypothesis formulation\n",
    "\n",
    "A hypothesis of the value of the mean is formulated using a null and alternative hypothesis, as follows:\n",
    "\n",
    "- in the case of a two-tailed test (we do not expect the value to be 'off' in any particular direction)\n",
    "\n",
    "    - H<sub>0</sub>: &mu; = &mu;<sub>0</sub>\n",
    "    - H<sub>a</sub>: &mu; &ne; &mu;<sub>0</sub>\n",
    "    \n",
    "- in the case of a one-tailed test (we are testing against the value to be 'off' in a particular direction e.g. larger, as in the example below; this results in an upper-tailed test if we are testing against a value larger than hypothesised and a lower-tailed test if we are testing against a value smaller than hypothesised)\n",
    "\n",
    "    - H<sub>0</sub>: &mu; &le; &mu;<sub>0</sub>\n",
    "    - H<sub>a</sub>: &mu; &gt; &mu;<sub>0</sub>\n",
    "    "
   ]
  },
  {
   "cell_type": "markdown",
   "metadata": {},
   "source": [
    "## 3 Using the normal distribution\n",
    "\n",
    "We can use the normal distribution for the test for the mean in either of the following cases:\n",
    "\n",
    "- the sample size is large (this is our case - we will be using `l_sample` where `n = 100`)\n",
    "- the population distribution is known to be normal"
   ]
  },
  {
   "cell_type": "markdown",
   "metadata": {},
   "source": [
    "### Test if the sample contained in `sample` has the mean of 451.7 (two tailed), with significance of 0.05\n",
    "\n",
    "   - H<sub>0</sub>: &mu; = 451.7\n",
    "   - H<sub>a</sub>: &mu; &ne; 451.7"
   ]
  },
  {
   "cell_type": "markdown",
   "metadata": {},
   "source": [
    "Calculate the test statistic"
   ]
  },
  {
   "cell_type": "code",
   "execution_count": 3,
   "metadata": {},
   "outputs": [
    {
     "data": {
      "text/plain": [
       "1.6224551236748583"
      ]
     },
     "execution_count": 3,
     "metadata": {},
     "output_type": "execute_result"
    }
   ],
   "source": [
    "mu_zero = 451.7\n",
    "T1 = abs((l_sample.mean() - mu_zero)/(l_sample.std()/math.sqrt(len(l_sample))))\n",
    "T1"
   ]
  },
  {
   "cell_type": "markdown",
   "metadata": {},
   "source": [
    "Find the two-tailed critical value for significance"
   ]
  },
  {
   "cell_type": "code",
   "execution_count": 4,
   "metadata": {},
   "outputs": [
    {
     "data": {
      "text/plain": [
       "1.959963984540054"
      ]
     },
     "execution_count": 4,
     "metadata": {},
     "output_type": "execute_result"
    }
   ],
   "source": [
    "alpha = 0.05\n",
    "alpha_half = alpha/2\n",
    "critical_value = stats.norm.ppf(1 - alpha_half)\n",
    "critical_value"
   ]
  },
  {
   "cell_type": "markdown",
   "metadata": {},
   "source": [
    "Compare to see if the value is significant"
   ]
  },
  {
   "cell_type": "code",
   "execution_count": 5,
   "metadata": {},
   "outputs": [
    {
     "data": {
      "text/plain": [
       "False"
      ]
     },
     "execution_count": 5,
     "metadata": {},
     "output_type": "execute_result"
    }
   ],
   "source": [
    "T1 > critical_value"
   ]
  },
  {
   "cell_type": "markdown",
   "metadata": {},
   "source": [
    "As the result is significant, we **reject the null hypothesis**. With the significance of 0.05 we cannot say that the mean is different from the hypothesised value."
   ]
  },
  {
   "cell_type": "markdown",
   "metadata": {},
   "source": [
    "### Test if the sample contained in `sample` has a mean of 451.7 or greater, with significance of 0.05\n",
    "\n",
    "   - H<sub>0</sub>: &mu; &ge; 451.7\n",
    "   - H<sub>a</sub>: &mu; &lt; 451.7"
   ]
  },
  {
   "cell_type": "markdown",
   "metadata": {},
   "source": [
    "Calculate the test statistic"
   ]
  },
  {
   "cell_type": "code",
   "execution_count": 6,
   "metadata": {},
   "outputs": [
    {
     "data": {
      "text/plain": [
       "-1.6224551236748583"
      ]
     },
     "execution_count": 6,
     "metadata": {},
     "output_type": "execute_result"
    }
   ],
   "source": [
    "mu_zero = 451.7\n",
    "T2 = (l_sample.mean() - mu_zero)/(l_sample.std()/math.sqrt(len(l_sample)))\n",
    "T2"
   ]
  },
  {
   "cell_type": "markdown",
   "metadata": {},
   "source": [
    "Find the **lower-tailed** critical value for significance"
   ]
  },
  {
   "cell_type": "code",
   "execution_count": 7,
   "metadata": {},
   "outputs": [
    {
     "data": {
      "text/plain": [
       "-1.6448536269514729"
      ]
     },
     "execution_count": 7,
     "metadata": {},
     "output_type": "execute_result"
    }
   ],
   "source": [
    "alpha = 0.05\n",
    "critical_value = stats.norm.ppf(alpha)\n",
    "critical_value"
   ]
  },
  {
   "cell_type": "markdown",
   "metadata": {},
   "source": [
    "Compare to see if the value is significant (we are testing if the statistic is **smaller** than the critical value, as it is a lower-tailed test)"
   ]
  },
  {
   "cell_type": "code",
   "execution_count": 8,
   "metadata": {},
   "outputs": [
    {
     "data": {
      "text/plain": [
       "False"
      ]
     },
     "execution_count": 8,
     "metadata": {},
     "output_type": "execute_result"
    }
   ],
   "source": [
    "T2 < critical_value"
   ]
  },
  {
   "cell_type": "markdown",
   "metadata": {},
   "source": [
    "As the result is significant, we **reject the null hypothesis**. With a significance of 0.05, the result indicates that the mean is not equal to or greater than the hypothesised value."
   ]
  },
  {
   "cell_type": "markdown",
   "metadata": {},
   "source": [
    "## 4 Using the t-distribution\n",
    "\n",
    "We use the t-distribution for the test for the mean if the sample size is small and not known to be normal. We are using a small sample (`s_sample` with `n=25`).\n"
   ]
  },
  {
   "cell_type": "markdown",
   "metadata": {},
   "source": [
    "### Test if the sample contained in `sample` has the mean of 451.7 (two tailed), with significance of 0.05\n",
    "\n",
    "   - H<sub>0</sub>: &mu; = 451.7\n",
    "   - H<sub>a</sub>: &mu; &ne; 451.7"
   ]
  },
  {
   "cell_type": "markdown",
   "metadata": {},
   "source": [
    "Calculate the test statistic (note that this is the same as when using the normal distribution)"
   ]
  },
  {
   "cell_type": "code",
   "execution_count": 9,
   "metadata": {},
   "outputs": [
    {
     "data": {
      "text/plain": [
       "3.3365783065107015"
      ]
     },
     "execution_count": 9,
     "metadata": {},
     "output_type": "execute_result"
    }
   ],
   "source": [
    "mu_zero = 451.7\n",
    "T3 = abs((s_sample.mean() - mu_zero)/(s_sample.std()/math.sqrt(len(s_sample))))\n",
    "T3"
   ]
  },
  {
   "cell_type": "markdown",
   "metadata": {},
   "source": [
    "Find the two-tailed critical value for significance"
   ]
  },
  {
   "cell_type": "code",
   "execution_count": 10,
   "metadata": {},
   "outputs": [
    {
     "data": {
      "text/plain": [
       "2.0638985616280205"
      ]
     },
     "execution_count": 10,
     "metadata": {},
     "output_type": "execute_result"
    }
   ],
   "source": [
    "alpha = 0.05\n",
    "alpha_half = alpha/2\n",
    "critical_value = stats.t.ppf(1 - alpha_half, len(s_sample) - 1)\n",
    "critical_value"
   ]
  },
  {
   "cell_type": "markdown",
   "metadata": {},
   "source": [
    "Compare to see if the value is significant"
   ]
  },
  {
   "cell_type": "code",
   "execution_count": 11,
   "metadata": {},
   "outputs": [
    {
     "data": {
      "text/plain": [
       "True"
      ]
     },
     "execution_count": 11,
     "metadata": {},
     "output_type": "execute_result"
    }
   ],
   "source": [
    "T3 > critical_value"
   ]
  },
  {
   "cell_type": "markdown",
   "metadata": {},
   "source": [
    "As the result is not significant, we **fail to reject the null hypothesis**. This means that with a 0.05 significance we cannot say that the mean is different from the hypothesised value.\n",
    "\n",
    "If we repeat this experiment many times with different random samples, the result will vary. This is the nature of statistics."
   ]
  },
  {
   "cell_type": "markdown",
   "metadata": {},
   "source": [
    "### Test if the sample contained in `sample` has a mean of 451.7 or greater, with significance of 0.05\n",
    "\n",
    "   - H<sub>0</sub>: &mu; &ge; 451.7\n",
    "   - H<sub>a</sub>: &mu; &lt; 451.7"
   ]
  },
  {
   "cell_type": "markdown",
   "metadata": {},
   "source": [
    "Calculate the test statistic"
   ]
  },
  {
   "cell_type": "code",
   "execution_count": 12,
   "metadata": {},
   "outputs": [
    {
     "data": {
      "text/plain": [
       "-3.3365783065107015"
      ]
     },
     "execution_count": 12,
     "metadata": {},
     "output_type": "execute_result"
    }
   ],
   "source": [
    "mu_zero = 451.7\n",
    "T4 = (s_sample.mean() - mu_zero)/(s_sample.std()/math.sqrt(len(s_sample)))\n",
    "T4"
   ]
  },
  {
   "cell_type": "markdown",
   "metadata": {},
   "source": [
    "Find the **lower-tailed** critical value for significance"
   ]
  },
  {
   "cell_type": "code",
   "execution_count": 13,
   "metadata": {},
   "outputs": [
    {
     "data": {
      "text/plain": [
       "-1.7108820799094282"
      ]
     },
     "execution_count": 13,
     "metadata": {},
     "output_type": "execute_result"
    }
   ],
   "source": [
    "alpha = 0.05\n",
    "critical_value = stats.t.ppf(alpha, len(s_sample) - 1)\n",
    "critical_value"
   ]
  },
  {
   "cell_type": "markdown",
   "metadata": {},
   "source": [
    "Compare to see if the value is significant (we are testing if the statistic is **smaller** than the critical value, as it is a lower-tailed test)"
   ]
  },
  {
   "cell_type": "code",
   "execution_count": 14,
   "metadata": {},
   "outputs": [
    {
     "data": {
      "text/plain": [
       "True"
      ]
     },
     "execution_count": 14,
     "metadata": {},
     "output_type": "execute_result"
    }
   ],
   "source": [
    "T4 < critical_value"
   ]
  },
  {
   "cell_type": "markdown",
   "metadata": {},
   "source": [
    "As the result is not significant, we **fail to reject the null hypothesis**. This means that with a 0.05 significance we cannot say that the mean is less than the hypothesised value."
   ]
  },
  {
   "cell_type": "markdown",
   "metadata": {},
   "source": [
    "## 5 Inspecting p-values (an alternative way of testing)\n",
    "\n",
    "When computationally working with distributions (as we are here), instead of looking for critical values and comparing statistics with these, we can find p-values for the statistics and compare them with our significance (alpha) values. "
   ]
  },
  {
   "cell_type": "markdown",
   "metadata": {},
   "source": [
    "Two-tailed test requires multiplication by 2. Also, we know that T1 is positive and thus use the complement of cdf."
   ]
  },
  {
   "cell_type": "code",
   "execution_count": 15,
   "metadata": {},
   "outputs": [
    {
     "name": "stdout",
     "output_type": "stream",
     "text": [
      "0.10470593444700294 False\n"
     ]
    }
   ],
   "source": [
    "p1 = (1 - stats.norm.cdf(T1)) * 2\n",
    "print (p1, p1 < 0.05)"
   ]
  },
  {
   "cell_type": "markdown",
   "metadata": {},
   "source": [
    "This is a lower-tailed test hence we use cdf."
   ]
  },
  {
   "cell_type": "code",
   "execution_count": 16,
   "metadata": {},
   "outputs": [
    {
     "name": "stdout",
     "output_type": "stream",
     "text": [
      "0.05235296722350145 False\n"
     ]
    }
   ],
   "source": [
    "p2 = (stats.norm.cdf(T2))\n",
    "print (p2, p2 < 0.05)"
   ]
  },
  {
   "cell_type": "markdown",
   "metadata": {},
   "source": [
    "Another two-tailed test"
   ]
  },
  {
   "cell_type": "code",
   "execution_count": 17,
   "metadata": {},
   "outputs": [
    {
     "name": "stdout",
     "output_type": "stream",
     "text": [
      "0.0008481653144420953 True\n"
     ]
    }
   ],
   "source": [
    "p3 = (1 - stats.norm.cdf(T3)) * 2\n",
    "print (p3, p3 < 0.05)"
   ]
  },
  {
   "cell_type": "markdown",
   "metadata": {},
   "source": [
    "Another lower-tailed test."
   ]
  },
  {
   "cell_type": "code",
   "execution_count": 18,
   "metadata": {},
   "outputs": [
    {
     "name": "stdout",
     "output_type": "stream",
     "text": [
      "0.00042408265722107866 True\n"
     ]
    }
   ],
   "source": [
    "p4 = (stats.norm.cdf(T4))\n",
    "print (p4, p4 < 0.05)"
   ]
  }
 ],
 "metadata": {
  "kernelspec": {
   "display_name": "Python 3",
   "language": "python",
   "name": "python3"
  },
  "language_info": {
   "codemirror_mode": {
    "name": "ipython",
    "version": 3
   },
   "file_extension": ".py",
   "mimetype": "text/x-python",
   "name": "python",
   "nbconvert_exporter": "python",
   "pygments_lexer": "ipython3",
   "version": "3.8.3"
  }
 },
 "nbformat": 4,
 "nbformat_minor": 4
}
