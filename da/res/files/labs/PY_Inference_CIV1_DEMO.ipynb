{
 "cells": [
  {
   "cell_type": "markdown",
   "metadata": {},
   "source": [
    "# Confidence interval (1)\n",
    "\n",
    "This notebook covers the following cases:\n",
    "\n",
    "1. known $\\sigma$, data with normal distribution, any sample size\n",
    "2. known $\\sigma$, data with unknown distribution, large sample ($n \\ge 30$)"
   ]
  },
  {
   "cell_type": "markdown",
   "metadata": {},
   "source": [
    "## Imports and data"
   ]
  },
  {
   "cell_type": "markdown",
   "metadata": {},
   "source": [
    "Required imports"
   ]
  },
  {
   "cell_type": "code",
   "execution_count": 1,
   "metadata": {},
   "outputs": [],
   "source": [
    "import numpy as np\n",
    "import scipy.stats as stats\n",
    "import math\n",
    "import matplotlib.pyplot as plt"
   ]
  },
  {
   "cell_type": "markdown",
   "metadata": {},
   "source": [
    "Configure values for the problem space"
   ]
  },
  {
   "cell_type": "code",
   "execution_count": 2,
   "metadata": {},
   "outputs": [],
   "source": [
    "mu = 450\n",
    "sigma = 10\n",
    "n = 100\n",
    "LoCpc = 95"
   ]
  },
  {
   "cell_type": "markdown",
   "metadata": {},
   "source": [
    "Calculate other required values"
   ]
  },
  {
   "cell_type": "code",
   "execution_count": 3,
   "metadata": {},
   "outputs": [],
   "source": [
    "stdErr = sigma / math.sqrt(n)"
   ]
  },
  {
   "cell_type": "markdown",
   "metadata": {},
   "source": [
    "Prepare a random sample to work with (with the given parameters)"
   ]
  },
  {
   "cell_type": "code",
   "execution_count": 4,
   "metadata": {},
   "outputs": [
    {
     "data": {
      "text/plain": [
       "array([443.72748528, 443.03130861, 453.92361736, 449.25777053,\n",
       "       438.25906107, 453.90266665, 438.81729392, 448.15305584,\n",
       "       437.46089199, 449.60834991, 456.08827666, 453.13280578,\n",
       "       461.98945534, 464.23913251, 423.89328586, 463.83418335,\n",
       "       450.21894675, 451.40734802, 447.81565342, 470.55350959,\n",
       "       458.31859837, 454.33584915, 450.83515435, 439.78517469,\n",
       "       458.53409713, 456.03547702, 444.35699946, 454.53166068,\n",
       "       445.1152836 , 422.03151194, 459.26272502, 460.49214337,\n",
       "       438.49014654, 462.09571682, 449.07551012, 448.40030618,\n",
       "       460.96242705, 456.30918784, 442.20276015, 442.52285571,\n",
       "       447.21623428, 448.62810401, 442.31565839, 459.09840601,\n",
       "       446.20985162, 454.50635136, 452.56666327, 459.75032132,\n",
       "       435.09861798, 453.09096087, 427.23156091, 453.42906077,\n",
       "       442.6969578 , 455.73939484, 454.87506253, 440.5013097 ,\n",
       "       450.76389988, 452.38277092, 428.7883178 , 450.72511737,\n",
       "       442.35947112, 440.24226337, 457.02799359, 434.71601018,\n",
       "       452.33210256, 441.91744833, 459.61177732, 452.66723375,\n",
       "       428.67313678, 441.32568703, 441.71155509, 436.43994836,\n",
       "       453.26539138, 440.22311018, 442.78175295, 445.30615759,\n",
       "       436.78638674, 462.67200671, 464.45303033, 446.75442764,\n",
       "       444.63751887, 462.3671101 , 465.10823054, 440.48916461,\n",
       "       455.6608934 , 451.56491422, 454.49446122, 443.70027959,\n",
       "       457.17154068, 448.93774684, 462.19930456, 429.51778565,\n",
       "       457.42724104, 459.50908393, 445.6360111 , 459.30305795,\n",
       "       454.97355983, 461.87409703, 453.15495152, 441.74281934])"
      ]
     },
     "execution_count": 4,
     "metadata": {},
     "output_type": "execute_result"
    }
   ],
   "source": [
    "sample = np.random.normal(loc=mu, scale=sigma, size=n)\n",
    "sample"
   ]
  },
  {
   "cell_type": "markdown",
   "metadata": {},
   "source": [
    "## Preparation"
   ]
  },
  {
   "cell_type": "markdown",
   "metadata": {},
   "source": [
    "We calculate the sample mean, $\\bar{x}$."
   ]
  },
  {
   "cell_type": "code",
   "execution_count": 5,
   "metadata": {},
   "outputs": [
    {
     "data": {
      "text/plain": [
       "449.2935896825467"
      ]
     },
     "execution_count": 5,
     "metadata": {},
     "output_type": "execute_result"
    }
   ],
   "source": [
    "xmean = stats.mstats.tmean(sample)\n",
    "xmean"
   ]
  },
  {
   "cell_type": "markdown",
   "metadata": {},
   "source": [
    "## Confidence interval\n",
    "\n",
    "Now we can go through the same steps as we do manually to determine the confidence interval.\n"
   ]
  },
  {
   "cell_type": "markdown",
   "metadata": {},
   "source": [
    "Find the cut-off points in the z-distribution. The first argument to `interval()` is the confidence as a fraction of 1."
   ]
  },
  {
   "cell_type": "code",
   "execution_count": 6,
   "metadata": {},
   "outputs": [
    {
     "name": "stdout",
     "output_type": "stream",
     "text": [
      "-1.959963984540054 1.959963984540054\n"
     ]
    }
   ],
   "source": [
    "zAlphaHalvedNeg, zAlphaHalvedPos = stats.norm.interval(LoCpc / 100)\n",
    "print(zAlphaHalvedNeg, zAlphaHalvedPos)"
   ]
  },
  {
   "cell_type": "markdown",
   "metadata": {},
   "source": [
    "De-standardise the upper cut-off point."
   ]
  },
  {
   "cell_type": "code",
   "execution_count": 7,
   "metadata": {},
   "outputs": [
    {
     "data": {
      "text/plain": [
       "1.959963984540054"
      ]
     },
     "execution_count": 7,
     "metadata": {},
     "output_type": "execute_result"
    }
   ],
   "source": [
    "halfIntervalWidth = zAlphaHalvedPos * stdErr\n",
    "halfIntervalWidth"
   ]
  },
  {
   "cell_type": "markdown",
   "metadata": {},
   "source": [
    "Print the confidence interval."
   ]
  },
  {
   "cell_type": "code",
   "execution_count": 8,
   "metadata": {},
   "outputs": [
    {
     "name": "stdout",
     "output_type": "stream",
     "text": [
      "Confidence interval: 449.294 ± 1.960\n"
     ]
    }
   ],
   "source": [
    "print('Confidence interval: {0:.3f} \\u00b1 {1:.3f}'.format(xmean, halfIntervalWidth))"
   ]
  },
  {
   "cell_type": "markdown",
   "metadata": {},
   "source": [
    "**Rather than employing the step-by-step approach as in manual calculations, the interval can be obtained by getting the lower and upper cut-off values in one step:**"
   ]
  },
  {
   "cell_type": "code",
   "execution_count": 9,
   "metadata": {},
   "outputs": [
    {
     "name": "stdout",
     "output_type": "stream",
     "text": [
      "Cut-off values: 447.334, 451.254\n",
      "Confidence interval: 449.294 ± 1.960, with 95% confidence\n"
     ]
    }
   ],
   "source": [
    "COl, COu = stats.norm.interval(LoCpc / 100, xmean, stdErr)\n",
    "print('Cut-off values: {0:.3f}, {1:.3f}'.format(COl, COu))\n",
    "print('Confidence interval: {0:.3f} \\u00b1 {1:.3f}, with {2}% confidence'.format(xmean, COu - xmean, LoCpc))"
   ]
  },
  {
   "cell_type": "markdown",
   "metadata": {},
   "source": [
    "## Plot\n",
    "\n",
    "Prepare the data"
   ]
  },
  {
   "cell_type": "code",
   "execution_count": 10,
   "metadata": {},
   "outputs": [],
   "source": [
    "halfFigWidthInStdErr = 3\n",
    "pointsPerStdErr = 20\n",
    "plotXMin = xmean - halfFigWidthInStdErr * stdErr\n",
    "plotXMax = xmean + halfFigWidthInStdErr * stdErr\n",
    "plotYMin = 0\n",
    "plotYMax = stats.norm.pdf(xmean, xmean, stdErr) * 1.2\n",
    "\n",
    "x = np.linspace(plotXMin, plotXMax, pointsPerStdErr * halfFigWidthInStdErr * 2)"
   ]
  },
  {
   "cell_type": "markdown",
   "metadata": {},
   "source": [
    "Plot"
   ]
  },
  {
   "cell_type": "code",
   "execution_count": 11,
   "metadata": {},
   "outputs": [
    {
     "data": {
      "image/png": "[encoded data removed]",
      "text/plain": [
       "<Figure size 1440x360 with 1 Axes>"
      ]
     },
     "metadata": {
      "needs_background": "light"
     },
     "output_type": "display_data"
    }
   ],
   "source": [
    "plt.figure(figsize=(20,5)) \n",
    "plt.xlim([plotXMin, plotXMax])\n",
    "plt.tick_params(length=0)\n",
    "plt.ylim([0, plotYMax])\n",
    "\n",
    "# x-ticks with text only\n",
    "plt.xticks([xmean - halfIntervalWidth, xmean, xmean + halfIntervalWidth], \n",
    "           [r'$CO_l={0:.2f}$'.format(xmean - halfIntervalWidth), \n",
    "            r'$\\bar x$={0:.2f}'.format(xmean), \n",
    "            r'$CO_u={0:.2f}$'.format(xmean + halfIntervalWidth)], fontsize=16)\n",
    "\n",
    "# no y-ticks\n",
    "plt.yticks([])\n",
    "\n",
    "# function\n",
    "plt.plot(x, stats.norm.pdf(x, xmean, stdErr), color='darkgray')\n",
    "\n",
    "# vertical lines\n",
    "plt.plot([xmean - halfIntervalWidth, xmean - halfIntervalWidth], \n",
    "         [0, stats.norm.pdf(xmean - halfIntervalWidth, xmean, stdErr)], color='black')\n",
    "plt.plot([xmean + halfIntervalWidth, xmean + halfIntervalWidth], \n",
    "         [0, stats.norm.pdf(xmean - halfIntervalWidth, xmean, stdErr)], color='black')\n",
    "plt.plot([xmean, xmean], [0, stats.norm.pdf(xmean, xmean, stdErr)], color='darkgray', linestyle='--')\n",
    "plt.show()"
   ]
  }
 ],
 "metadata": {
  "kernelspec": {
   "display_name": "Python 3",
   "language": "python",
   "name": "python3"
  },
  "language_info": {
   "codemirror_mode": {
    "name": "ipython",
    "version": 3
   },
   "file_extension": ".py",
   "mimetype": "text/x-python",
   "name": "python",
   "nbconvert_exporter": "python",
   "pygments_lexer": "ipython3",
   "version": "3.8.3"
  }
 },
 "nbformat": 4,
 "nbformat_minor": 2
}
